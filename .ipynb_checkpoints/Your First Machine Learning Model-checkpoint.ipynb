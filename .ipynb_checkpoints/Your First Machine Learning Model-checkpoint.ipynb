{
 "cells": [
  {
   "cell_type": "code",
   "execution_count": 2,
   "id": "c752a60e",
   "metadata": {},
   "outputs": [],
   "source": [
    "import pandas as pd"
   ]
  },
  {
   "cell_type": "code",
   "execution_count": 3,
   "id": "2d797402-a784-48d0-886d-ab87ab12ba30",
   "metadata": {},
   "outputs": [
    {
     "data": {
      "text/plain": [
       "Index(['Suburb', 'Address', 'Rooms', 'Type', 'Price', 'Method', 'SellerG',\n",
       "       'Date', 'Distance', 'Postcode', 'Bedroom2', 'Bathroom', 'Car',\n",
       "       'Landsize', 'BuildingArea', 'YearBuilt', 'CouncilArea', 'Lattitude',\n",
       "       'Longtitude', 'Regionname', 'Propertycount'],\n",
       "      dtype='object')"
      ]
     },
     "execution_count": 3,
     "metadata": {},
     "output_type": "execute_result"
    }
   ],
   "source": [
    "melb_data = pd.read_csv(\"CSV/melb_data.csv\")\n",
    "melb_data.columns"
   ]
  },
  {
   "cell_type": "code",
   "execution_count": 4,
   "id": "25ec571c-6988-47a0-96ba-d867fde2e6bb",
   "metadata": {},
   "outputs": [],
   "source": [
    "melb_data = melb_data.dropna(axis=0)\n"
   ]
  },
  {
   "cell_type": "code",
   "execution_count": 5,
   "id": "43275ba5-baeb-4ab9-a8e5-4e7e089c5f25",
   "metadata": {},
   "outputs": [],
   "source": [
    "Y = melb_data.Price #prediction target"
   ]
  },
  {
   "cell_type": "code",
   "execution_count": 20,
   "id": "5da8e241-f29f-4aa7-94db-b76fd9800892",
   "metadata": {},
   "outputs": [],
   "source": [
    "melbourne_features = ['Rooms', 'Bathroom', 'Landsize', 'Lattitude', 'Longtitude']\n",
    "#The columns that are inputted into our model (and later used to make predictions) are called \"features.\" In our case, those would be the columns used to determine the home price."
   ]
  },
  {
   "cell_type": "code",
   "execution_count": 21,
   "id": "7c4e3dc7-d1d6-4647-94f1-9ec7f099581e",
   "metadata": {},
   "outputs": [
    {
     "name": "stdout",
     "output_type": "stream",
     "text": [
      "       Rooms  Bathroom  Landsize  Lattitude  Longtitude\n",
      "1          2       1.0     156.0  -37.80790   144.99340\n",
      "2          3       2.0     134.0  -37.80930   144.99440\n",
      "4          4       1.0     120.0  -37.80720   144.99410\n",
      "6          3       2.0     245.0  -37.80240   144.99930\n",
      "7          2       1.0     256.0  -37.80600   144.99540\n",
      "...      ...       ...       ...        ...         ...\n",
      "12205      3       2.0     972.0  -37.51232   145.13282\n",
      "12206      3       1.0     179.0  -37.86558   144.90474\n",
      "12207      1       1.0       0.0  -37.85588   144.89936\n",
      "12209      2       1.0       0.0  -37.85581   144.99025\n",
      "12212      6       3.0    1087.0  -37.81038   144.89389\n",
      "\n",
      "[6196 rows x 5 columns]\n"
     ]
    }
   ],
   "source": [
    "X = melb_data[melbourne_features]#saving some determinated columns in variable x\n",
    "print(X)"
   ]
  },
  {
   "cell_type": "code",
   "execution_count": 8,
   "id": "da0bf1e2-c979-4ddc-8b11-11639f3cdcb5",
   "metadata": {},
   "outputs": [],
   "source": [
    "from sklearn.tree import DecisionTreeRegressor"
   ]
  },
  {
   "cell_type": "markdown",
   "id": "31bc7634-271e-4f64-8d24-3adc8e4a05de",
   "metadata": {},
   "source": [
    "The steps to building and using a model are:\n",
    "\n",
    "Define: What type of model will it be? A decision tree? Some other type of model? Some other parameters of the model type are specified too.\n",
    "Fit: Capture patterns from provided data. This is the heart of modeling.\n",
    "Predict: Just what it sounds like\n",
    "Evaluate: Determine how accurate the model's predictions are."
   ]
  },
  {
   "cell_type": "code",
   "execution_count": 9,
   "id": "22972ae7-c3f7-42fc-8fd6-edfb300b2d70",
   "metadata": {},
   "outputs": [
    {
     "data": {
      "text/plain": [
       "DecisionTreeRegressor(random_state=1)"
      ]
     },
     "execution_count": 9,
     "metadata": {},
     "output_type": "execute_result"
    }
   ],
   "source": [
    "# Define model. Specify a number for random_state to ensure same results each run\n",
    "melb_model = DecisionTreeRegressor(random_state=1)\n",
    "\n",
    "# Fit model\n",
    "melb_model.fit(X, Y)"
   ]
  },
  {
   "cell_type": "code",
   "execution_count": 10,
   "id": "968841bd-1af6-43cd-a90e-aa0c1ca2927d",
   "metadata": {
    "scrolled": true
   },
   "outputs": [
    {
     "name": "stdout",
     "output_type": "stream",
     "text": [
      "Making predictions for the following 5 houses:\n",
      "   Rooms  Bathroom  Landsize  Lattitude  Longtitude\n",
      "1      2       1.0     156.0   -37.8079    144.9934\n",
      "2      3       2.0     134.0   -37.8093    144.9944\n",
      "4      4       1.0     120.0   -37.8072    144.9941\n",
      "6      3       2.0     245.0   -37.8024    144.9993\n",
      "7      2       1.0     256.0   -37.8060    144.9954\n",
      "The predictions are\n",
      "[1035000. 1465000. 1600000. 1876000. 1636000.]\n"
     ]
    }
   ],
   "source": [
    "print(\"Making predictions for the following 5 houses:\")\n",
    "print(X.head())\n",
    "print(\"The predictions are\")\n",
    "print(melb_model.predict(X.head()))"
   ]
  },
  {
   "cell_type": "code",
   "execution_count": 11,
   "id": "a2134cba-ccdb-41b8-b704-ee174dfcbd0d",
   "metadata": {},
   "outputs": [],
   "source": [
    "datos = [X,Y]"
   ]
  },
  {
   "cell_type": "code",
   "execution_count": 12,
   "id": "861d7673-a4cb-4fe7-acd0-01eab9f6b55a",
   "metadata": {},
   "outputs": [],
   "source": [
    "precios_df = pd.DataFrame(datos[1].head())"
   ]
  },
  {
   "cell_type": "code",
   "execution_count": 13,
   "id": "bded3f34-8b8c-40e4-9d11-45f7f6b4df47",
   "metadata": {},
   "outputs": [],
   "source": [
    "features_df = pd.DataFrame(datos[0].head())"
   ]
  },
  {
   "cell_type": "code",
   "execution_count": 16,
   "id": "d5c327bd-47c6-4ab0-a06f-d2c57cabf60f",
   "metadata": {},
   "outputs": [
    {
     "name": "stdout",
     "output_type": "stream",
     "text": [
      "       Price\n",
      "1  1035000.0\n",
      "2  1465000.0\n",
      "4  1600000.0\n",
      "6  1876000.0\n",
      "7  1636000.0\n",
      "   Rooms  Bathroom  Landsize  Lattitude  Longtitude\n",
      "1      2       1.0     156.0   -37.8079    144.9934\n",
      "2      3       2.0     134.0   -37.8093    144.9944\n",
      "4      4       1.0     120.0   -37.8072    144.9941\n",
      "6      3       2.0     245.0   -37.8024    144.9993\n",
      "7      2       1.0     256.0   -37.8060    144.9954\n"
     ]
    }
   ],
   "source": [
    "print(precios_df)\n",
    "print(features_df)"
   ]
  },
  {
   "cell_type": "code",
   "execution_count": null,
   "id": "855d89ff",
   "metadata": {},
   "outputs": [],
   "source": []
  }
 ],
 "metadata": {
  "kernelspec": {
   "display_name": "Python 3 (ipykernel)",
   "language": "python",
   "name": "python3"
  },
  "language_info": {
   "codemirror_mode": {
    "name": "ipython",
    "version": 3
   },
   "file_extension": ".py",
   "mimetype": "text/x-python",
   "name": "python",
   "nbconvert_exporter": "python",
   "pygments_lexer": "ipython3",
   "version": "3.9.12"
  }
 },
 "nbformat": 4,
 "nbformat_minor": 5
}
